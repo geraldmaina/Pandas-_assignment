{
 "cells": [
  {
   "cell_type": "code",
   "execution_count": 1,
   "id": "3a08c796",
   "metadata": {},
   "outputs": [],
   "source": [
    "import pandas as pd"
   ]
  },
  {
   "cell_type": "code",
   "execution_count": 2,
   "id": "1df3f0d7",
   "metadata": {},
   "outputs": [],
   "source": [
    "df=pd.read_csv(\"vgsales.csv\")"
   ]
  },
  {
   "cell_type": "code",
   "execution_count": 3,
   "id": "0a77c395",
   "metadata": {},
   "outputs": [
    {
     "name": "stdout",
     "output_type": "stream",
     "text": [
      "   Rank                       Name Platform    Year         Genre Publisher  \\\n",
      "0     1                 Wii Sports      Wii  2006.0        Sports  Nintendo   \n",
      "1     2          Super Mario Bros.      NES  1985.0      Platform  Nintendo   \n",
      "2     3             Mario Kart Wii      Wii  2008.0        Racing  Nintendo   \n",
      "3     4          Wii Sports Resort      Wii  2009.0        Sports  Nintendo   \n",
      "4     5   Pokemon Red/Pokemon Blue       GB  1996.0  Role-Playing  Nintendo   \n",
      "5     6                     Tetris       GB  1989.0        Puzzle  Nintendo   \n",
      "6     7      New Super Mario Bros.       DS  2006.0      Platform  Nintendo   \n",
      "7     8                   Wii Play      Wii  2006.0          Misc  Nintendo   \n",
      "8     9  New Super Mario Bros. Wii      Wii  2009.0      Platform  Nintendo   \n",
      "9    10                  Duck Hunt      NES  1984.0       Shooter  Nintendo   \n",
      "\n",
      "   NA_Sales  EU_Sales  JP_Sales  Other_Sales  Global_Sales  \n",
      "0     41.49     29.02      3.77         8.46         82.74  \n",
      "1     29.08      3.58      6.81         0.77         40.24  \n",
      "2     15.85     12.88      3.79         3.31         35.82  \n",
      "3     15.75     11.01      3.28         2.96         33.00  \n",
      "4     11.27      8.89     10.22         1.00         31.37  \n",
      "5     23.20      2.26      4.22         0.58         30.26  \n",
      "6     11.38      9.23      6.50         2.90         30.01  \n",
      "7     14.03      9.20      2.93         2.85         29.02  \n",
      "8     14.59      7.06      4.70         2.26         28.62  \n",
      "9     26.93      0.63      0.28         0.47         28.31  \n"
     ]
    }
   ],
   "source": [
    "print(df.head(10))"
   ]
  },
  {
   "cell_type": "code",
   "execution_count": 4,
   "id": "12ab4198",
   "metadata": {},
   "outputs": [
    {
     "name": "stdout",
     "output_type": "stream",
     "text": [
      "Shape of the dataset: (16598, 11)\n",
      "Basic information about dataset:\n",
      "<class 'pandas.core.frame.DataFrame'>\n",
      "RangeIndex: 16598 entries, 0 to 16597\n",
      "Data columns (total 11 columns):\n",
      " #   Column        Non-Null Count  Dtype  \n",
      "---  ------        --------------  -----  \n",
      " 0   Rank          16598 non-null  int64  \n",
      " 1   Name          16598 non-null  object \n",
      " 2   Platform      16598 non-null  object \n",
      " 3   Year          16327 non-null  float64\n",
      " 4   Genre         16598 non-null  object \n",
      " 5   Publisher     16540 non-null  object \n",
      " 6   NA_Sales      16598 non-null  float64\n",
      " 7   EU_Sales      16598 non-null  float64\n",
      " 8   JP_Sales      16598 non-null  float64\n",
      " 9   Other_Sales   16598 non-null  float64\n",
      " 10  Global_Sales  16598 non-null  float64\n",
      "dtypes: float64(6), int64(1), object(4)\n",
      "memory usage: 1.4+ MB\n",
      "None\n"
     ]
    }
   ],
   "source": [
    "print(\"Shape of the dataset:\",df.shape)\n",
    "print(\"Basic information about dataset:\")\n",
    "print(df.info())"
   ]
  },
  {
   "cell_type": "code",
   "execution_count": 5,
   "id": "6622ed49",
   "metadata": {},
   "outputs": [
    {
     "name": "stdout",
     "output_type": "stream",
     "text": [
      "Missing data:\n",
      " Rank              0\n",
      "Name              0\n",
      "Platform          0\n",
      "Year            271\n",
      "Genre             0\n",
      "Publisher        58\n",
      "NA_Sales          0\n",
      "EU_Sales          0\n",
      "JP_Sales          0\n",
      "Other_Sales       0\n",
      "Global_Sales      0\n",
      "dtype: int64\n"
     ]
    }
   ],
   "source": [
    "print(\"Missing data:\\n\",df.isnull().sum())\n",
    "df=df.dropna()"
   ]
  },
  {
   "cell_type": "code",
   "execution_count": 7,
   "id": "97878022",
   "metadata": {},
   "outputs": [
    {
     "name": "stdout",
     "output_type": "stream",
     "text": [
      "Top 5 video games by global sales:\n",
      "                       Name  Global_Sales\n",
      "0                Wii Sports         82.74\n",
      "1         Super Mario Bros.         40.24\n",
      "2            Mario Kart Wii         35.82\n",
      "3         Wii Sports Resort         33.00\n",
      "4  Pokemon Red/Pokemon Blue         31.37\n"
     ]
    }
   ],
   "source": [
    "top_5_games=df.nlargest(5,\"Global_Sales\")\n",
    "print(\"Top 5 video games by global sales:\")\n",
    "print(top_5_games[[\"Name\",\"Global_Sales\"]])"
   ]
  },
  {
   "cell_type": "code",
   "execution_count": 13,
   "id": "667f1778",
   "metadata": {},
   "outputs": [
    {
     "name": "stdout",
     "output_type": "stream",
     "text": [
      "861.7700000000001\n"
     ]
    }
   ],
   "source": [
    "action_sales_na=df[df[\"Genre\"]==\"Action\"][\"NA_Sales\"].sum()\n",
    "print(action_sales_na)"
   ]
  },
  {
   "cell_type": "code",
   "execution_count": 15,
   "id": "878b170c",
   "metadata": {},
   "outputs": [
    {
     "name": "stdout",
     "output_type": "stream",
     "text": [
      "Publisher\n",
      "Nintendo           1784.43\n",
      "Electronic Arts    1093.39\n",
      "Activision          721.41\n",
      "Name: Global_Sales, dtype: float64\n"
     ]
    }
   ],
   "source": [
    "top_3_publishers=df.groupby(\"Publisher\")[\"Global_Sales\"].sum().nlargest(3)\n",
    "print(top_3_publishers)"
   ]
  },
  {
   "cell_type": "code",
   "execution_count": 17,
   "id": "b6ead123",
   "metadata": {},
   "outputs": [
    {
     "name": "stdout",
     "output_type": "stream",
     "text": [
      "0.24216068642745708\n"
     ]
    }
   ],
   "source": [
    "shooter_average_sales_europe=df[df[\"Genre\"]==\"Shooter\"][\"EU_Sales\"].mean()\n",
    "print(shooter_average_sales_europe)"
   ]
  },
  {
   "cell_type": "code",
   "execution_count": 18,
   "id": "319a5924",
   "metadata": {},
   "outputs": [
    {
     "name": "stdout",
     "output_type": "stream",
     "text": [
      "   Rank        Name Platform    Year   Genre Publisher  NA_Sales  EU_Sales  \\\n",
      "0     1  Wii Sports      Wii  2006.0  Sports  Nintendo     41.49     29.02   \n",
      "\n",
      "   JP_Sales  Other_Sales  Global_Sales  \n",
      "0      3.77         8.46         82.74  \n"
     ]
    }
   ],
   "source": [
    "highest_jp_sports = df[df['Genre'] == 'Sports'].nlargest(1, 'JP_Sales')\n",
    "print(highest_jp_sports)"
   ]
  },
  {
   "cell_type": "code",
   "execution_count": null,
   "id": "e08f40fa",
   "metadata": {},
   "outputs": [],
   "source": []
  }
 ],
 "metadata": {
  "kernelspec": {
   "display_name": "Python 3 (ipykernel)",
   "language": "python",
   "name": "python3"
  },
  "language_info": {
   "codemirror_mode": {
    "name": "ipython",
    "version": 3
   },
   "file_extension": ".py",
   "mimetype": "text/x-python",
   "name": "python",
   "nbconvert_exporter": "python",
   "pygments_lexer": "ipython3",
   "version": "3.10.9"
  }
 },
 "nbformat": 4,
 "nbformat_minor": 5
}
